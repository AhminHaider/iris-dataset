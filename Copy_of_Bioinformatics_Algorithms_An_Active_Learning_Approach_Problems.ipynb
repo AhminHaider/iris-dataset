{
  "nbformat": 4,
  "nbformat_minor": 0,
  "metadata": {
    "colab": {
      "provenance": [],
      "authorship_tag": "ABX9TyN0KvgxQzGwMPErhi+UK4RS",
      "include_colab_link": true
    },
    "kernelspec": {
      "name": "python3",
      "display_name": "Python 3"
    },
    "language_info": {
      "name": "python"
    }
  },
  "cells": [
    {
      "cell_type": "markdown",
      "metadata": {
        "id": "view-in-github",
        "colab_type": "text"
      },
      "source": [
        "<a href=\"https://colab.research.google.com/github/AhminHaider/iris-dataset/blob/main/Copy_of_Bioinformatics_Algorithms_An_Active_Learning_Approach_Problems.ipynb\" target=\"_parent\"><img src=\"https://colab.research.google.com/assets/colab-badge.svg\" alt=\"Open In Colab\"/></a>"
      ]
    },
    {
      "cell_type": "code",
      "source": [
        "# Colab setup ------------------\n",
        "import os, sys, subprocess\n",
        "if \"google.colab\" in sys.modules:\n",
        "    cmd = \"pip install --upgrade watermark blackcellmagic\"\n",
        "    process = subprocess.Popen(cmd.split(), stdout=subprocess.PIPE)\n",
        "\n",
        "import numpy as np\n",
        "nucleotides = ['A', 'G', 'C', 'T']"
      ],
      "metadata": {
        "id": "BQW6dPQNOVoc"
      },
      "execution_count": null,
      "outputs": []
    },
    {
      "cell_type": "code",
      "source": [
        "!sudo apt-get install python3.10\n",
        "!sudo update-alternatives --install /usr/bin/python3 python3 /usr/bin/python3.10 1\n",
        "!sudo update-alternatives --set python3 /usr/bin/python3.10"
      ],
      "metadata": {
        "colab": {
          "base_uri": "https://localhost:8080/"
        },
        "id": "wvjV9UUK6rcF",
        "outputId": "73bd9e5d-8e45-44cb-ae5d-d2129e83de47"
      },
      "execution_count": null,
      "outputs": [
        {
          "output_type": "stream",
          "name": "stdout",
          "text": [
            "Reading package lists... Done\n",
            "Building dependency tree... Done\n",
            "Reading state information... Done\n",
            "python3.10 is already the newest version (3.10.12-1~22.04.2).\n",
            "0 upgraded, 0 newly installed, 0 to remove and 10 not upgraded.\n",
            "update-alternatives: using /usr/bin/python3.10 to provide /usr/bin/python3 (python3) in auto mode\n"
          ]
        }
      ]
    },
    {
      "cell_type": "code",
      "source": [
        "# Step 1: Install Black formatter\n",
        "!pip install black\n",
        "\n",
        "# Step 2: Import necessary modules and define the formatter function and callback\n",
        "import black\n",
        "from datetime import datetime\n",
        "from IPython.display import display, Javascript\n",
        "from google.colab import output\n",
        "\n",
        "def format_code_cell(code):\n",
        "    try:\n",
        "        formatted_code = black.format_str(code, mode=black.Mode())\n",
        "        timestamp = datetime.now().strftime(\"%Y-%m-%d %H:%M:%S\")\n",
        "        formatted_code_with_timestamp = f\"# Reformatted on {timestamp}\\n{formatted_code}\"\n",
        "        return formatted_code_with_timestamp\n",
        "    except black.NothingChanged:\n",
        "        return code\n",
        "\n",
        "def format_code_cell_callback(code):\n",
        "    formatted_code = format_code_cell(code)\n",
        "    return formatted_code\n",
        "\n",
        "output.register_callback('notebook.format_code_cell', format_code_cell_callback)\n",
        "\n",
        "# Step 3: Define the JavaScript function to format code cells on execution\n",
        "js_code = \"\"\"\n",
        "function formatCells() {\n",
        "    var cells = IPython.notebook.get_cells();\n",
        "    cells.forEach(function(cell) {\n",
        "        if (cell.cell_type === 'code') {\n",
        "            var code = cell.get_text();\n",
        "            google.colab.kernel.invokeFunction('notebook.format_code_cell', [code], {}).then(\n",
        "                function(formatted_code) {\n",
        "                    cell.set_text(formatted_code.data);\n",
        "                }\n",
        "            );\n",
        "        }\n",
        "    });\n",
        "}\n",
        "\n",
        "IPython.notebook.events.on('execute.CodeCell', function() {\n",
        "    formatCells();\n",
        "});\n",
        "\"\"\"\n",
        "\n",
        "display(Javascript(js_code))\n",
        "\n",
        "# Step 4: Define a poorly formatted function to test\n",
        "def poorly_formatted_function (a,b):\n",
        "    return a+b\n",
        "\n",
        "result = poorly_formatted_function(1,2)\n",
        "print(result)\n"
      ],
      "metadata": {
        "colab": {
          "base_uri": "https://localhost:8080/",
          "height": 178
        },
        "id": "akbmNCtxE5i3",
        "outputId": "ab6bba7b-8916-4d90-a278-91a3e856e293"
      },
      "execution_count": null,
      "outputs": [
        {
          "output_type": "stream",
          "name": "stdout",
          "text": [
            "Requirement already satisfied: black in /usr/local/lib/python3.10/dist-packages (24.4.2)\n",
            "Requirement already satisfied: click>=8.0.0 in /usr/local/lib/python3.10/dist-packages (from black) (8.1.7)\n",
            "Requirement already satisfied: mypy-extensions>=0.4.3 in /usr/local/lib/python3.10/dist-packages (from black) (1.0.0)\n",
            "Requirement already satisfied: packaging>=22.0 in /usr/local/lib/python3.10/dist-packages (from black) (24.0)\n",
            "Requirement already satisfied: pathspec>=0.9.0 in /usr/local/lib/python3.10/dist-packages (from black) (0.12.1)\n",
            "Requirement already satisfied: platformdirs>=2 in /usr/local/lib/python3.10/dist-packages (from black) (4.2.2)\n",
            "Requirement already satisfied: tomli>=1.1.0 in /usr/local/lib/python3.10/dist-packages (from black) (2.0.1)\n",
            "Requirement already satisfied: typing-extensions>=4.0.1 in /usr/local/lib/python3.10/dist-packages (from black) (4.12.1)\n"
          ]
        },
        {
          "output_type": "display_data",
          "data": {
            "text/plain": [
              "<IPython.core.display.Javascript object>"
            ],
            "application/javascript": [
              "\n",
              "function formatCells() {\n",
              "    var cells = IPython.notebook.get_cells();\n",
              "    cells.forEach(function(cell) {\n",
              "        if (cell.cell_type === 'code') {\n",
              "            var code = cell.get_text();\n",
              "            google.colab.kernel.invokeFunction('notebook.format_code_cell', [code], {}).then(\n",
              "                function(formatted_code) {\n",
              "                    cell.set_text(formatted_code.data);\n",
              "                }\n",
              "            );\n",
              "        }\n",
              "    });\n",
              "}\n",
              "\n",
              "IPython.notebook.events.on('execute.CodeCell', function() {\n",
              "    formatCells();\n",
              "});\n"
            ]
          },
          "metadata": {}
        },
        {
          "output_type": "stream",
          "name": "stdout",
          "text": [
            "3\n"
          ]
        }
      ]
    },
    {
      "cell_type": "markdown",
      "source": [
        "Section 1.2 (PatternCount)"
      ],
      "metadata": {
        "id": "7eIAmEtZ64io"
      }
    },
    {
      "cell_type": "code",
      "execution_count": null,
      "metadata": {
        "colab": {
          "base_uri": "https://localhost:8080/"
        },
        "id": "WZm3Z6Sa4ISD",
        "outputId": "73cf30ff-59f7-4a05-bb2c-b5658efde500"
      },
      "outputs": [
        {
          "output_type": "stream",
          "name": "stdout",
          "text": [
            "37\n"
          ]
        }
      ],
      "source": [
        "\n",
        "def count_kmer(text, kmer):\n",
        "    length_kmer = len(kmer)\n",
        "    answer = 0\n",
        "    for i in range(len(text) - length_kmer + 1):\n",
        "        if text[i:i+length_kmer] == kmer:\n",
        "            answer += 1\n",
        "    return answer\n",
        "\n",
        "print (count_kmer(\"CTGTGGCCTTAGATCGGCCTTAACCATGGCCTTACTAGCCATCAGGCCTTAGGCCTTATAGGGGCCTTACGGGCCTTAAGAGTGGGGGCCTTAAGGCCTTAAGGCCTTATGACTATGGGCCTTAGGCCTTAGGCCTTAGGGCCTTAGACTGGCCTTAGGCCTTAGGGCCTTACGTTTCGGCCTTACTGGGCCTTAGGGCCTTAGGCCTTACGTGGCCTTAGAAAAGTGGCCTTAGATGCAAGGCCTTAAGGGCCTTACGAGAGCATGGCCTTACGGGCCTTAGAGGCCTTATGGCCTTAAACTGTCCTAGGCCTTATGGCCTTACGGGGCCTTAGGCCTTAAGCTGGCCTTAGGCCTTAGGGGCGTCAGGCCTTAAATAAAGGCCTTAACACACACGGTGCGAAGGCCTTACGGCCTTAAAGGCCTTAGCTACATGGCCTTATCCAGGGCCTTAGGCCTTAAGGCCTTAGGCCTTAGGCCTTAGGCCTTATCCTGGACTAACGTGGCCTTACAGGCCTTAGGCCTTAAGCGGCTGGCCTTAGAGTTAGGCCTTACCCTGGCCTTAGGCCTTATGGCCTTATAGGTAGGGCCTTACCCGGCCTTAGGCCTTAGGGCCTTAAACACGGGGCCTTAGGCCTTAACGCGGCCTTAGGCCTTAGGCCTTATCGGCCTTAAGCAGGCCTTAACAAGGCCTTACAGGCCTTAAGGCCTTAGGGGCCTTATTGGCCTTAGGCCTTAGGCCTTAACGGCCTTAGGCCTTAGGCCTTAGAGGCCTTAGTAGGTTAGGCCTTAGGCCTTAGGCGGCCTTAGGCCTTAGGCCTTATACGGCCTTAGCGGCCTTAGGCCTTAGGCCTTATGGCCTTAGGCCTTAGGGCCTTAACGGCCTTAACCCGGGCCTTAGATGGCCTTATGGGCCTTAGGCCTTAACCTTTACGGGTAGGCCTTAGGCCTTA\", \"GGCCTTAGG\"))\n"
      ]
    },
    {
      "cell_type": "markdown",
      "source": [
        "Section 1.2 (Frequent Words Problem)"
      ],
      "metadata": {
        "id": "iXmc19Ux7WMj"
      }
    },
    {
      "cell_type": "code",
      "source": [
        "\n",
        "def better_frequent_words(text, k):\n",
        "    #list of kmer or kmers which apear most frequently\n",
        "    frequent_patterns = []\n",
        "    #list of how many times any kmer reapers (list does not inclue kmer itself)\n",
        "    pattern_reappearances = []\n",
        "    #code to make list pattern_reappearances\n",
        "    for index in range(0, len(text)):\n",
        "      temp_subtext = text[index: k+index]\n",
        "      if len(temp_subtext) == k:\n",
        "        pattern_reappearances.append(count_kmer(text, temp_subtext))\n",
        "    #code to make list frequent_patterns\n",
        "    for index in range(0, len(text)):\n",
        "      temp_subtext = text[index: k+index]\n",
        "      if len(temp_subtext) == k:\n",
        "        if count_kmer(text, temp_subtext) == max(pattern_reappearances):\n",
        "          if temp_subtext in frequent_patterns:\n",
        "            pass\n",
        "          else:\n",
        "            frequent_patterns.append(temp_subtext)\n",
        "\n",
        "    return frequent_patterns\n",
        "\n",
        "print(better_frequent_words('TTAGTGCAGATGGACGACACGGAACGGATTAGTGCAGATGGACGACAGTATTCAGGTATTCAGCGGAACGGATTAGTGCAGGTATTCAGAAGAAATCCCAAGAAATCCCTTAGTGCAGAAGAAATCCCATGGACGACAAAGAAATCCCGTATTCAGTTAGTGCAGGTATTCAGATGGACGACAAAGAAATCCCAAGAAATCCCATGGACGACAAAGAAATCCCATGGACGACATTAGTGCAGCGGAACGGACGGAACGGATTAGTGCAGATGGACGACAATGGACGACAGTATTCAGTTAGTGCAGTTAGTGCAGAAGAAATCCCGTATTCAGATGGACGACAGTATTCAGGTATTCAGGTATTCAGAAGAAATCCCCGGAACGGAAAGAAATCCCATGGACGACACGGAACGGAATGGACGACAATGGACGACAGTATTCAGAAGAAATCCCATGGACGACAGTATTCAGTTAGTGCAGTTAGTGCAGCGGAACGGATTAGTGCAGTTAGTGCAGGTATTCAGCGGAACGGAATGGACGACAGTATTCAGGTATTCAGCGGAACGGACGGAACGGATTAGTGCAGATGGACGACACGGAACGGACGGAACGGAGTATTCAGTTAGTGCAGATGGACGACAATGGACGACAAAGAAATCCCGTATTCAGCGGAACGGAGTATTCAGAAGAAATCCCCGGAACGGATTAGTGCAGATGGACGACAAAGAAATCCCTTAGTGCAGATGGACGACATTAGTGCAGATGGACGACAGTATTCAGAAGAAATCCCAAGAAATCCCCGGAACGGATTAGTGCAGCGGAACGGAGTATTCAGATGGACGACATTAGTGCAGATGGACGACAATGGACGACAGTATTCAGCGGAACGGAGTATTCAGATGGACGACA', 13))\n"
      ],
      "metadata": {
        "colab": {
          "base_uri": "https://localhost:8080/"
        },
        "id": "anVH1meF08nW",
        "outputId": "e511b49f-c961-4464-f11f-3b75586cef6c"
      },
      "execution_count": null,
      "outputs": [
        {
          "output_type": "stream",
          "name": "stdout",
          "text": [
            "['CAGATGGACGACA']\n"
          ]
        }
      ]
    },
    {
      "cell_type": "markdown",
      "source": [
        "Section 1.3 (Some Hidden Messages are More Surprising than Others)"
      ],
      "metadata": {
        "id": "VJQKoZdA-Z2u"
      }
    },
    {
      "cell_type": "code",
      "source": [
        "def reverse_complement(pattern: str):\n",
        "    output = \"\"\n",
        "    pairs = {'A':'T', 'T':'A', 'C':'G', 'G':'C'}\n",
        "    for item in reversed(pattern):\n",
        "        output += pairs[item]\n",
        "    return output"
      ],
      "metadata": {
        "id": "OC17-u2t7_o0"
      },
      "execution_count": null,
      "outputs": []
    },
    {
      "cell_type": "code",
      "source": [
        "print(ReverseComplement('ATGATCAAG'))"
      ],
      "metadata": {
        "colab": {
          "base_uri": "https://localhost:8080/"
        },
        "id": "iTSXyRhI8EqC",
        "outputId": "2172e027-f6bc-4834-aa7e-d8bc8631b564"
      },
      "execution_count": null,
      "outputs": [
        {
          "output_type": "stream",
          "name": "stdout",
          "text": [
            "CTTGATCAT\n"
          ]
        }
      ]
    },
    {
      "cell_type": "code",
      "source": [],
      "metadata": {
        "id": "cxz3SsUuCq9U"
      },
      "execution_count": null,
      "outputs": []
    },
    {
      "cell_type": "markdown",
      "source": [
        "Section 1.3 (Some Hidden Messages are More Surprising than Others) 6/7"
      ],
      "metadata": {
        "id": "gF-xuXyGAj-r"
      }
    },
    {
      "cell_type": "code",
      "source": [
        "def pattern_matching(Pattern: str, Genome: str):\n",
        "    pattern_reappearance_poitions = []\n",
        "    lPattern = len(Pattern)\n",
        "\n",
        "    for i in range(len(Genome) - lPattern + 1):\n",
        "        if Genome[i:i+lPattern] == Pattern:\n",
        "            pattern_reappearance_poitions.append(i)\n",
        "\n",
        "    return pattern_reappearance_poitions\n"
      ],
      "metadata": {
        "id": "ll9ZH6_I_zXc"
      },
      "execution_count": null,
      "outputs": []
    },
    {
      "cell_type": "markdown",
      "source": [],
      "metadata": {
        "id": "UIL539VgTM1-"
      }
    },
    {
      "cell_type": "code",
      "source": [
        "with open('/content/Vibrio_cholerae.txt', 'r') as file:\n",
        "  genome = file.read().replace('\\n',\"\")\n",
        "print(genome)"
      ],
      "metadata": {
        "id": "W_X-O6lhBawS"
      },
      "execution_count": null,
      "outputs": []
    },
    {
      "cell_type": "code",
      "source": [
        "pattern_matching('CTTGATCAT', genome)"
      ],
      "metadata": {
        "id": "ce4PfWw_ACbt",
        "colab": {
          "base_uri": "https://localhost:8080/"
        },
        "outputId": "2f55a84d-750d-4a30-df1d-aa1c79b7f6ae"
      },
      "execution_count": null,
      "outputs": [
        {
          "output_type": "execute_result",
          "data": {
            "text/plain": [
              "[582773,\n",
              " 1448818,\n",
              " 1660787,\n",
              " 1768605,\n",
              " 1831082,\n",
              " 2158210,\n",
              " 2421212,\n",
              " 2527317,\n",
              " 2624130,\n",
              " 2680675,\n",
              " 3109105,\n",
              " 3277120,\n",
              " 3473252,\n",
              " 3767778,\n",
              " 4356710,\n",
              " 4754933]"
            ]
          },
          "metadata": {},
          "execution_count": 28
        }
      ]
    },
    {
      "cell_type": "markdown",
      "source": [
        "Section 1.4 (An Explosion of Hidden Messages)"
      ],
      "metadata": {
        "id": "3mTxaHN_JTWl"
      }
    },
    {
      "cell_type": "code",
      "source": [
        "def clump_finding(Genome: str, k: int, L: int, t: int):\n",
        "    frequent_patterns_within_clumps = []\n",
        "\n",
        "    for g in range(len(Genome)- L+1):\n",
        "        window = Genome[g:g+L]\n",
        "        kmer = betterfrequentwords(window, k)\n",
        "        if count_kmer(window, kmer) >= t:\n",
        "            if kmer in frequent_patterns_within_clumps:\n",
        "                pass\n",
        "            else:\n",
        "                frequent_patterns_within_clumps.append(kmer)\n",
        "\n",
        "    return frequent_patterns_within_clumps\n"
      ],
      "metadata": {
        "id": "pGCa94WlJSBx"
      },
      "execution_count": null,
      "outputs": []
    },
    {
      "cell_type": "code",
      "source": [
        "from collections import defaultdict\n",
        "\n",
        "def better_frequent_words(Text, k):\n",
        "    freqMap = defaultdict(int)\n",
        "    n = len(Text)\n",
        "\n",
        "    for i in range(n - k + 1):\n",
        "        kmer = Text[i:i + k]\n",
        "        freqMap[kmer] += 1\n",
        "    return freqMap\n",
        "\n",
        "def f ind_clumps(Text, k, L, t):\n",
        "    Patterns = []\n",
        "    n = len(Text)\n",
        "    window = Text[:L]\n",
        "    freqMap = betterfrequentwords(window, k)\n",
        "\n",
        "    for i in range(1, n - L + 1):\n",
        "        # Slide the window and update the frequency map incrementally\n",
        "        out = Text[i - 1:i - 1 + k]\n",
        "        new = Text[i + L - k:i + L]\n",
        "\n",
        "        freqMap[out] -= 1\n",
        "        freqMap[new] += 1\n",
        "\n",
        "        if freqMap[new] >= t and new not in Patterns:\n",
        "            Patterns.append(new)\n",
        "\n",
        "    return len(Patterns)"
      ],
      "metadata": {
        "id": "7bmjtvl2NoUD"
      },
      "execution_count": null,
      "outputs": []
    },
    {
      "cell_type": "code",
      "source": [
        "with open('/content/bioinformaticsalgorithms.com_data_realdatasets_Rearrangements_E_coli.txt', 'r') as file:\n",
        "  genome = file.read().replace('\\n',\"\")\n"
      ],
      "metadata": {
        "id": "uzHCBeHXfHk_"
      },
      "execution_count": null,
      "outputs": []
    },
    {
      "cell_type": "code",
      "source": [
        "print(FindClumps(genome, 9, 500, 3))\n"
      ],
      "metadata": {
        "colab": {
          "base_uri": "https://localhost:8080/"
        },
        "id": "8yte5fN-LNmr",
        "outputId": "6ca384bb-a62c-4e27-9746-8fa17625c136"
      },
      "execution_count": null,
      "outputs": [
        {
          "output_type": "stream",
          "name": "stdout",
          "text": [
            "1031\n"
          ]
        }
      ]
    },
    {
      "cell_type": "markdown",
      "source": [
        "Section 1.7 (Exersize Break)"
      ],
      "metadata": {
        "id": "DMbwLEPhxEk0"
      }
    },
    {
      "cell_type": "code",
      "source": [
        "def skew(str):\n",
        "    skew_values = [0]\n",
        "    current_skew_value = 0\n",
        "\n",
        "    for nucleotide in str:\n",
        "      if nucleotide == \"A\" or x == \"T\":\n",
        "        skew_values.append(current_skew_value)\n",
        "      if nucleotide == \"G\":\n",
        "        current_skew_value += 1\n",
        "        skew_values.append(current_skew_value)\n",
        "      if nucleotide == \"C\":\n",
        "        current_skew_value += -1\n",
        "        skew_values.append(current_skew_value)\n",
        "\n",
        "    return skew_values\n",
        "print(skew('TAAAGACTGCCGAGAGGCCAACACGAGTGCTAGAACGAGGGGCGTAAACGCGGGTCCGAT'))\n"
      ],
      "metadata": {
        "colab": {
          "base_uri": "https://localhost:8080/"
        },
        "id": "WuzEXoTfxD9M",
        "outputId": "42a578fd-c30a-4a42-ed15-cbdabc6b2118"
      },
      "execution_count": null,
      "outputs": [
        {
          "output_type": "stream",
          "name": "stdout",
          "text": [
            "[0, 0, 0, 0, 0, 1, 1, 0, 0, 1, 0, -1, 0, 0, 1, 1, 2, 3, 2, 1, 1, 1, 0, 0, -1, 0, 0, 1, 1, 2, 1, 1, 1, 2, 2, 2, 1, 2, 2, 3, 4, 5, 6, 5, 6, 6, 6, 6, 6, 5, 6, 5, 6, 7, 8, 8, 7, 6, 7, 7, 7]\n"
          ]
        }
      ]
    },
    {
      "cell_type": "code",
      "source": [
        "\n",
        "def minimum_skew(Genome: str):\n",
        "    skew_values = [0]\n",
        "    minimum_skews = []\n",
        "    current_skew_value = 0\n",
        "\n",
        "    for nucleotide in Genome:\n",
        "        if nucleotide == \"A\" or nucleotide == \"T\":\n",
        "            skew_values.append(current_skew_value)\n",
        "        if nucleotide == \"G\":\n",
        "            current_skew_value += 1\n",
        "            skew_values.append(current_skew_value)\n",
        "        if nucleotide == \"C\":\n",
        "            current_skew_value += -1\n",
        "            skew_values.append(current_skew_value)\n",
        "\n",
        "    for index in range(0, len(skew_values)):\n",
        "        if skew_values[index] == min(skew_values):\n",
        "            minimum_skews.append(index)\n",
        "\n",
        "    return minimum_skews\n",
        "print(MinimumSkew('TAAAGACTGCCGAGAGGCCAACACGAGTGCTAGAACGAGGGGCGTAAACGCGGGTCCGAT'))"
      ],
      "metadata": {
        "colab": {
          "base_uri": "https://localhost:8080/"
        },
        "id": "wfOMPEb89PDQ",
        "outputId": "496f3fe1-1119-4ad8-9b77-bdda26fd3aaa"
      },
      "execution_count": null,
      "outputs": [
        {
          "output_type": "stream",
          "name": "stdout",
          "text": [
            "[11, 24]\n"
          ]
        }
      ]
    },
    {
      "cell_type": "markdown",
      "source": [
        "Section 1.8 (Hamming Distance)"
      ],
      "metadata": {
        "id": "pX1WHnYh2EUB"
      }
    },
    {
      "cell_type": "code",
      "source": [
        "def hamming_distance(p: str, q: str):\n",
        "    hamming_distance = 0\n",
        "\n",
        "    for index in range(len(p)):\n",
        "      if p[index] != q[index]:\n",
        "        hamming_distance += 1\n",
        "\n",
        "    return hamming_distance\n",
        "\n"
      ],
      "metadata": {
        "id": "5YeJsgQm2D85"
      },
      "execution_count": null,
      "outputs": []
    },
    {
      "cell_type": "code",
      "source": [
        "def approximate_pattern_matching(Pattern: str, Text: str, d: int):\n",
        "    #Approximate Pattern Position\n",
        "    app = []\n",
        "    # 'i' is short for index\n",
        "    for i in range(len(Text) - len(Pattern) + 1):\n",
        "      if HammingDistance(Text[i:i+len(Pattern)], Pattern) <= d:\n",
        "        app.append(i)\n",
        "\n",
        "    return app\n",
        "\n",
        "ApproximatePatternMatching('ATTCTGGA', 'CGCCCGAATCCAGAACGCATTCCCATATTTCGGGACCACTGGCCTCCACGGTACGGACGTCAATCAAAT', 3)\n"
      ],
      "metadata": {
        "colab": {
          "base_uri": "https://localhost:8080/"
        },
        "id": "ciC31Yjd3YzC",
        "outputId": "9972fac7-b651-43d5-b304-15374274ab3a"
      },
      "execution_count": null,
      "outputs": [
        {
          "output_type": "execute_result",
          "data": {
            "text/plain": [
              "[6, 7, 26, 27]"
            ]
          },
          "metadata": {},
          "execution_count": 29
        }
      ]
    },
    {
      "cell_type": "code",
      "source": [
        "def approximate_pattern_count(Pattern: str, Text: str, d: int):\n",
        "    # Approximate Pattern Occurrences\n",
        "    apo = 0\n",
        "\n",
        "    for i in range(len(Text) - len(Pattern) + 1):\n",
        "      if HammingDistance(Text[i:i+len(Pattern)], Pattern) <= d:\n",
        "        apo += 1\n",
        "\n",
        "    return apo\n",
        "ApproximatePatternCount('AAAAA', 'AACAAGCTGATAAACATTTAAAGAG', 2)"
      ],
      "metadata": {
        "colab": {
          "base_uri": "https://localhost:8080/"
        },
        "id": "CbmxIRY36jWc",
        "outputId": "0110a75b-cce8-4940-951f-5ea00dbb0c2e"
      },
      "execution_count": null,
      "outputs": [
        {
          "output_type": "execute_result",
          "data": {
            "text/plain": [
              "11"
            ]
          },
          "metadata": {},
          "execution_count": 30
        }
      ]
    },
    {
      "cell_type": "code",
      "source": [
        "from ast import pattern\n",
        "from re import I\n",
        "\n",
        "def frequent_words_with_mismatches(Text: str, k: int, d: int):\n",
        "    similar_frequent_patterns = []\n",
        "    pattern_reappearances = []\n",
        "\n",
        "    for i in range(len(Text)-k+1):\n",
        "      pattern = Text[i: k+i]\n",
        "      pattern_reappearances.append(ApproximatePatternCount(pattern, Text, d))\n",
        "\n",
        "    for i in range(len(Text)-k+1):\n",
        "      pattern = Text[i: k+i]\n",
        "      if ApproximatePatternCount(pattern, Text, d) == max(pattern_reappearances):\n",
        "        frequent_pattern = ''\n",
        "\n",
        "        for x in pattern:\n",
        "          frequent_pattern += str(x)\n",
        "        similar_frequent_patterns.append(frequent_pattern)\n",
        "\n",
        "    return similar_frequent_patterns\n",
        "\n",
        "FrequentWordsWithMismatches('ACGTTGCATGTCGCATGATGCATGAGAGCT', 4, 1)\n"
      ],
      "metadata": {
        "colab": {
          "base_uri": "https://localhost:8080/"
        },
        "id": "PsBMTPv7DPX1",
        "outputId": "917a55a4-897e-46a4-e1a9-f50cbb1098c6"
      },
      "execution_count": null,
      "outputs": [
        {
          "output_type": "execute_result",
          "data": {
            "text/plain": [
              "['ATGT', 'GATG', 'ATGC']"
            ]
          },
          "metadata": {},
          "execution_count": 35
        }
      ]
    },
    {
      "cell_type": "code",
      "source": [
        "from collections import defaultdict\n",
        "\n",
        "def hamming_distance(p: str, q: str):\n",
        "    distance = 0\n",
        "\n",
        "    for i in range(len(p)):\n",
        "        if p[i] != q[i]:\n",
        "            distance += 1\n",
        "\n",
        "    return distance\n",
        "\n",
        "def neighbors(pattern: str, d: int):\n",
        "    if d == 0:\n",
        "        return {pattern}\n",
        "    if len(pattern) == 1:\n",
        "        return {'A', 'C', 'G', 'T'}\n",
        "\n",
        "    neighborhood = set()\n",
        "    suffix_neighbors = Neighbors(pattern[1:], d)\n",
        "\n",
        "    for neighbor in suffix_neighbors:\n",
        "        if HammingDistance(pattern[1:], neighbor) < d:\n",
        "\n",
        "            for nucleotide in nucleotides:\n",
        "                neighborhood.add(nucleotide + neighbor)\n",
        "\n",
        "        else:\n",
        "            neighborhood.add(pattern[0] + neighbor)\n",
        "\n",
        "    return neighborhood\n",
        "\n",
        "def frequent_words_with_mismatches(Text: str, k: int, d: int):\n",
        "    freqMap = defaultdict(int)\n",
        "    n = len(Text)\n",
        "\n",
        "    for i in range(n - k + 1):\n",
        "        pattern = Text[i:i + k]\n",
        "        neighborhood = Neighbors(pattern, d)\n",
        "\n",
        "        for neighbor in neighborhood:\n",
        "            freqMap[neighbor] += 1\n",
        "\n",
        "    maxCount = max(freqMap.values())\n",
        "    frequentPatterns = [pattern for pattern, count in freqMap.items() if count == maxCount]\n",
        "\n",
        "    return frequentPatterns\n",
        "\n",
        "# Sample Input\n",
        "text = \"ACGTTGCATGTCGCATGATGCATGAGAGCT\"\n",
        "k = 4\n",
        "d = 1\n",
        "result = frequent_words_with_mismatches(text, k, d)\n",
        "print(*result)"
      ],
      "metadata": {
        "colab": {
          "base_uri": "https://localhost:8080/"
        },
        "id": "8wfFh8PbL12q",
        "outputId": "9072948f-6beb-4568-9dc7-7c3fea09c160"
      },
      "execution_count": null,
      "outputs": [
        {
          "output_type": "stream",
          "name": "stdout",
          "text": [
            "ATGT GATG ATGC\n"
          ]
        }
      ]
    },
    {
      "cell_type": "code",
      "source": [
        "def frequent_words_mismatches_reverse_complements(Text: str, k: int, d: int):\n",
        "    freqMap = defaultdict(int)\n",
        "    ltext = len(Text)\n",
        "\n",
        "    for i in range(ltext - k + 1):\n",
        "        pattern = Text[i:i + k]\n",
        "        neighborhood = Neighbors(pattern, d)\n",
        "\n",
        "        for neighbor in neighborhood:\n",
        "            freqMap[neighbor] += 1\n",
        "            freqMap[ReverseComplement(neighbor)] += 1\n",
        "\n",
        "    maxCount = max(freqMap.values())\n",
        "    frequentPatterns = [pattern for pattern, count in freqMap.items() if count == maxCount]\n",
        "\n",
        "    return frequentPatterns"
      ],
      "metadata": {
        "id": "ATal8T93t_nn"
      },
      "execution_count": null,
      "outputs": []
    },
    {
      "cell_type": "markdown",
      "source": [
        "1.10 (Epilogue: Complications in ori Predictions)"
      ],
      "metadata": {
        "id": "_Q6vuh-b38zO"
      }
    },
    {
      "cell_type": "code",
      "source": [
        "'''with open('/content/1.10 Genome .rtf', 'r') as file:\n",
        "  genome = file.read().replace('\\n',\"\")\n",
        "print(genome)'''"
      ],
      "metadata": {
        "colab": {
          "base_uri": "https://localhost:8080/",
          "height": 35
        },
        "id": "OfJXs_LO2Mt-",
        "outputId": "7543dc92-a7b9-401c-f467-1fb0b4a7cca8"
      },
      "execution_count": null,
      "outputs": [
        {
          "output_type": "execute_result",
          "data": {
            "text/plain": [
              "'with open(\\'/content/1.10 Genome .rtf\\', \\'r\\') as file:\\n  genome = file.read().replace(\\'\\n\\',\"\")\\nprint(genome)'"
            ],
            "application/vnd.google.colaboratory.intrinsic+json": {
              "type": "string"
            }
          },
          "metadata": {},
          "execution_count": 38
        }
      ]
    },
    {
      "cell_type": "code",
      "source": [
        "'''from collections import defaultdict\n",
        "FrequentWordsMismatchesReverseComplements(genome, 9, 1)'''"
      ],
      "metadata": {
        "colab": {
          "base_uri": "https://localhost:8080/",
          "height": 35
        },
        "id": "r_kVkldH4DeQ",
        "outputId": "a444ee41-16bc-4efe-affc-80c86e09e282"
      },
      "execution_count": null,
      "outputs": [
        {
          "output_type": "execute_result",
          "data": {
            "text/plain": [
              "'from collections import defaultdict\\nFrequentWordsMismatchesReverseComplements(genome, 9, 1)'"
            ],
            "application/vnd.google.colaboratory.intrinsic+json": {
              "type": "string"
            }
          },
          "metadata": {},
          "execution_count": 37
        }
      ]
    },
    {
      "cell_type": "code",
      "source": [
        "def read_genome_from_file(file_path: str):\n",
        "    with open(file_path, 'r') as file:\n",
        "        lines = file.readlines()[1:]  # Read all lines except the first one\n",
        "        genome_sequence = ''.join(lines).replace('\\n', '')  # Concatenate lines and remove newline characters\n",
        "    return genome_sequence\n",
        "\n",
        "# Example usage:\n",
        "file_path = '/content/Salmonella_enterica.txt'  # Replace this with the path to your genome text file\n",
        "genome_sequence = read_genome_from_file(file_path)\n",
        "print(genome_sequence)\n",
        "\n",
        "# Now you have the genome sequence without the first line, and you can use it in your analysis."
      ],
      "metadata": {
        "colab": {
          "base_uri": "https://localhost:8080/"
        },
        "id": "wUtggi2utNQJ",
        "outputId": "7bbd2764-1db7-428d-e982-66014525a74d"
      },
      "execution_count": null,
      "outputs": [
        {
          "output_type": "stream",
          "name": "stdout",
          "text": [
            "AGAGATTACGTCTGGTTGCAAGAGATCATAACAGGGGAAATTGATTGAAAATAAATATATCGCCAGCAGCACATGAACAAGTTTCGGAATGTGATCAATT\n"
          ]
        }
      ]
    },
    {
      "cell_type": "code",
      "source": [
        "from collections import defaultdict\n",
        "\n",
        "def neighbors(pattern: str, d: int) -> set:\n",
        "    if d == 0:\n",
        "        return {pattern}\n",
        "    if len(pattern) == 1:\n",
        "        return {'A', 'C', 'G', 'T'}\n",
        "\n",
        "    neighborhood = set()\n",
        "    suffix_neighbors = Neighbors(pattern[1:], d)\n",
        "\n",
        "    for neighbor in suffix_neighbors:\n",
        "        if HammingDistance(pattern[1:], neighbor) < d:\n",
        "\n",
        "            for nucleotide in nucleotides:\n",
        "                neighborhood.add(nucleotide + neighbor)\n",
        "        else:\n",
        "            neighborhood.add(pattern[0] + neighbor)\n",
        "    return neighborhood\n",
        "\n",
        "def reverse_complement(pattern: str) -> str:\n",
        "    complement = {'A': 'T', 'C': 'G', 'G': 'C', 'T': 'A'}\n",
        "    return ''.join(complement[nuc] for nuc in pattern[::-1])\n",
        "\n",
        "def find_dna_aboxes(genome_sequence: str, k: int, d: int) -> list:\n",
        "    freqMap = defaultdict(int)\n",
        "    n = len(genome_sequence)\n",
        "\n",
        "    for i in range(n - k + 1):\n",
        "        pattern = genome_sequence[i:i + k]\n",
        "        neighborhood = Neighbors(pattern, d)\n",
        "\n",
        "        for neighbor in neighborhood:\n",
        "            freqMap[neighbor] += 1\n",
        "            freqMap[ReverseComplement(neighbor)] += 1  # Count both pattern and its reverse complement\n",
        "\n",
        "    maxCount = max(freqMap.values())\n",
        "    dnaABoxes = [pattern for pattern, count in freqMap.items() if count == maxCount]\n",
        "\n",
        "    return dnaABoxes\n",
        "FindDnaABoxes(genome_sequence, 9, 1)"
      ],
      "metadata": {
        "colab": {
          "base_uri": "https://localhost:8080/"
        },
        "id": "2e06dkcr6QgM",
        "outputId": "74be7d76-8e7d-4504-e8bb-ffe63a7a8c58"
      },
      "execution_count": null,
      "outputs": [
        {
          "output_type": "execute_result",
          "data": {
            "text/plain": [
              "['CGCCAGCGC', 'GCGCTGGCG']"
            ]
          },
          "metadata": {},
          "execution_count": 13
        }
      ]
    },
    {
      "cell_type": "markdown",
      "source": [
        "1.11(CS: Generating the Neighborhood of a String)"
      ],
      "metadata": {
        "id": "DyJadXiW1xP2"
      }
    },
    {
      "cell_type": "code",
      "source": [
        "def neighbors(s: str, d: int):\n",
        "    if d == 0:\n",
        "        return {s}\n",
        "    if len(s) == 1:\n",
        "        return {'A', 'C', 'G', 'T'}\n",
        "\n",
        "    neighborhood = set()\n",
        "    suffix_neighbors = Neighbors(s[1:], d)\n",
        "\n",
        "    for neighbor in suffix_neighbors:\n",
        "        if HammingDistance(s[1:], neighbor) < d:\n",
        "\n",
        "            for nucleotide in nucleotides:\n",
        "                neighborhood.add(nucleotide + neighbor)\n",
        "\n",
        "        else:\n",
        "            neighborhood.add(s[0] + neighbor)\n",
        "\n",
        "    return neighborhood\n",
        "\n",
        "Neighbors('ACG', 1)\n",
        "\n"
      ],
      "metadata": {
        "colab": {
          "base_uri": "https://localhost:8080/"
        },
        "id": "nvNMHpsR1w0y",
        "outputId": "e078dd4b-1004-4179-dbb3-5061dd91ceea"
      },
      "execution_count": null,
      "outputs": [
        {
          "output_type": "execute_result",
          "data": {
            "text/plain": [
              "{'AAG', 'ACA', 'ACC', 'ACG', 'ACT', 'AGG', 'ATG', 'CCG', 'GCG', 'TCG'}"
            ]
          },
          "metadata": {},
          "execution_count": 19
        }
      ]
    },
    {
      "cell_type": "code",
      "source": [
        "def immediate_neighbors(Pattern):\n",
        "    # Initializing the set with single string Pattern\n",
        "    Neighborhood = set([Pattern])\n",
        "\n",
        "    for i in range(len(Pattern)):\n",
        "      # i-th nucleotide of Pattern\n",
        "      symbol = Pattern[i]\n",
        "      # Iterate over all nucleotides\n",
        "      for nucleotide in nucleotides:\n",
        "        # Ensure a different nucleotide from the symbol\n",
        "        if nucleotide != symbol:\n",
        "          # Create a new neighbor by substituting the i-th nucleotide with x\n",
        "          neighbor = Pattern[:i] + nucleotide + Pattern[i + 1:]\n",
        "          # Add Neighbor to Neighborhood set\n",
        "          Neighborhood.add(neighbor)\n",
        "\n",
        "    return Neighborhood\n",
        "ImmediateNeighbors('ACG')\n"
      ],
      "metadata": {
        "colab": {
          "base_uri": "https://localhost:8080/"
        },
        "id": "URv6kWDtA-1k",
        "outputId": "9c2aff75-41d8-413d-fe36-cc58ba261164"
      },
      "execution_count": null,
      "outputs": [
        {
          "output_type": "execute_result",
          "data": {
            "text/plain": [
              "{'AAG', 'ACA', 'ACC', 'ACG', 'ACT', 'AGG', 'ATG', 'CCG', 'GCG', 'TCG'}"
            ]
          },
          "metadata": {},
          "execution_count": 23
        }
      ]
    },
    {
      "cell_type": "code",
      "source": [
        "def iterative_neighbors(Pattern, d):\n",
        "    Neighborhood = set([Pattern])\n",
        "\n",
        "    for j in range(d):\n",
        "      #esp(each string pattern)\n",
        "      new_neighbors = set()\n",
        "\n",
        "      for esp in Neighborhood:\n",
        "        immediate_neighbors = ImmediateNeighbors(esp)\n",
        "        new_neighbors.update(immediate_neighbors)\n",
        "\n",
        "      Neighborhood.update(new_neighbors)\n",
        "    return Neighborhood\n",
        "IterativeNeighbors('ACG', 2)"
      ],
      "metadata": {
        "id": "xWwEvMbiFioD"
      },
      "execution_count": null,
      "outputs": []
    },
    {
      "cell_type": "code",
      "source": [
        "def iterative_neighbors(Pattern, d):\n",
        "    # Set consisting of single string Pattern\n",
        "    Neighborhood = set([Pattern])\n",
        "\n",
        "    for j in range(d):\n",
        "        new_neighbors = set()\n",
        "\n",
        "        for pattern in Neighborhood:\n",
        "            immediate_neighbors = ImmediateNeighbors(pattern)\n",
        "            new_neighbors.update(immediate_neighbors)\n",
        "\n",
        "        Neighborhood.update(new_neighbors)\n",
        "        # Remove duplicates from Neighborhood\n",
        "        Neighborhood = set(Neighborhood)\n",
        "\n",
        "    return Neighborhood\n",
        "IterativeNeighbors('ACG', 2)"
      ],
      "metadata": {
        "id": "FNx3K9jpLX5r"
      },
      "execution_count": null,
      "outputs": []
    },
    {
      "cell_type": "markdown",
      "source": [
        "1.13 (Detour: Probabilities of Patterns in a String)"
      ],
      "metadata": {
        "id": "kfL8z4-4JwE4"
      }
    },
    {
      "cell_type": "code",
      "source": [
        "# Calculation\n",
        "total_combinations = 2**25\n",
        "num_strings_not_containing_01 = 2  # Either all 0s or all 1s\n",
        "\n",
        "# Probability of not containing \"01\"\n",
        "P_not_containing_01 = num_strings_not_containing_01 / total_combinations\n",
        "\n",
        "# Required probability: containing \"01\" at least once\n",
        "P_containing_01 = 1 - P_not_containing_01\n",
        "\n",
        "P_containing_01\n"
      ],
      "metadata": {
        "colab": {
          "base_uri": "https://localhost:8080/"
        },
        "id": "1jzH6RiBV6m3",
        "outputId": "3bf6ac1b-6104-4501-aa82-f87cd9808542"
      },
      "execution_count": null,
      "outputs": [
        {
          "output_type": "execute_result",
          "data": {
            "text/plain": [
              "0.9999999403953552"
            ]
          },
          "metadata": {},
          "execution_count": 1
        }
      ]
    },
    {
      "cell_type": "code",
      "source": [
        "total_combinations = 2**25\n",
        "num_strings_not_containing_01 = 2\n",
        "\n",
        "P_not_containing_01 = num_strings_not_containing_01 / total_combinations\n",
        "P_containing_01 = 1 - P_not_containing_01\n",
        "print(format(P_containing_01, '.10f'))"
      ],
      "metadata": {
        "colab": {
          "base_uri": "https://localhost:8080/"
        },
        "id": "TxV91v6vVWye",
        "outputId": "42925dd1-be8a-4c32-97e2-5ac8babe2f07"
      },
      "execution_count": null,
      "outputs": [
        {
          "output_type": "stream",
          "name": "stdout",
          "text": [
            "0.9999999404\n"
          ]
        }
      ]
    },
    {
      "cell_type": "code",
      "source": [
        "def compute_probability(N, A, pattern, t):\n",
        "    total_strings = A ** N  # Total number of strings of length N in an alphabet of size A\n",
        "    count_strings_with_pattern = 0\n",
        "\n",
        "    # Iterate through all possible strings of length N and count occurrences of the pattern\n",
        "    for i in range(total_strings):\n",
        "        current_string = format(i, f'0{N}b')  # Format the integer as a binary string of length N\n",
        "        if pattern in current_string:\n",
        "            count_strings_with_pattern += 1\n",
        "\n",
        "    # Calculate the probability of the pattern appearing at least t times\n",
        "    probability = 1 - ((1 - (count_strings_with_pattern / total_strings)) ** t)\n",
        "    return probability\n",
        "\n",
        "# Compute Pr(25, 2, 01, 1)\n",
        "result = compute_probability(25, 2, '01', 2)\n",
        "print(f{result:.10f})"
      ],
      "metadata": {
        "colab": {
          "base_uri": "https://localhost:8080/"
        },
        "id": "ZjpcpbEgoyyu",
        "outputId": "ff051969-2052-4554-870f-63845d6b4810"
      },
      "execution_count": null,
      "outputs": [
        {
          "output_type": "stream",
          "name": "stdout",
          "text": [
            "Probability of pattern 01 appearing at least once in a random 25-character binary string: 1.0000000000\n"
          ]
        }
      ]
    },
    {
      "cell_type": "code",
      "source": [
        "import math\n",
        "\n",
        "def embedded_occurrences(m, k):\n",
        "    m_factorial = math.factorial(m)\n",
        "    k_factorial = math.factorial(k)\n",
        "    m_minus_k_factorial = math.factorial(m-k)\n",
        "    return m_factorial/(k_factorial*m_minus_k_factorial)\n",
        "\n",
        "embedded_occurrences(476, 3)\n",
        "\n"
      ],
      "metadata": {
        "colab": {
          "base_uri": "https://localhost:8080/"
        },
        "id": "UiIww56TdtnA",
        "outputId": "a3acb296-8037-4b6b-af1b-a616e4d3b42e"
      },
      "execution_count": null,
      "outputs": [
        {
          "output_type": "execute_result",
          "data": {
            "text/plain": [
              "17861900.0"
            ]
          },
          "metadata": {},
          "execution_count": 1
        }
      ]
    },
    {
      "cell_type": "markdown",
      "source": [
        "1.16 (Detour: The Towers of Hanoi)"
      ],
      "metadata": {
        "id": "uAk9o5ogyl-M"
      }
    },
    {
      "cell_type": "code",
      "source": [
        "def how_manysteps_to_comlete_the_tower_of_hanoi(n):\n",
        "    total_steps = 1\n",
        "\n",
        "    for level in range(2, n+1):\n",
        "      total_steps *= 2\n",
        "      total_steps += 1\n",
        "    return total_steps\n",
        "how_manysteps_to_comlete_the_tower_of_hanoi(8)\n",
        "\n"
      ],
      "metadata": {
        "colab": {
          "base_uri": "https://localhost:8080/"
        },
        "id": "TqHezs1QyXS7",
        "outputId": "e8c91d1e-ab8c-40d6-ac0b-27c8b1dbea9c"
      },
      "execution_count": null,
      "outputs": [
        {
          "output_type": "execute_result",
          "data": {
            "text/plain": [
              "255"
            ]
          },
          "metadata": {},
          "execution_count": 2
        }
      ]
    },
    {
      "cell_type": "code",
      "source": [
        "\n",
        "\n",
        "def hanoitowers(n, startpeg, destinationpeg):\n",
        "    if n == 1:\n",
        "        print(f\"Move top disk from {startpeg} to {destinationpeg}\")\n",
        "        return 'Move top disk from startPeg to destinationPeg'\n",
        "    transitpeg = 6 - startpeg - destinationpeg\n",
        "    hanoitowers(n - 1, startpeg, transitpeg)\n",
        "    print(f\"Move top disk from {startpeg} to {destinationpeg}\")\n",
        "    hanoitowers(n - 1, transitpeg, destinationpeg)\n",
        "    return\n",
        "\n",
        "hanoitowers(3, 1, 3)\n",
        "\n"
      ],
      "metadata": {
        "colab": {
          "base_uri": "https://localhost:8080/"
        },
        "id": "UAwcHsJD1wRB",
        "outputId": "2a005c13-003c-4f08-e247-e2e058753803"
      },
      "execution_count": null,
      "outputs": [
        {
          "output_type": "stream",
          "name": "stdout",
          "text": [
            "Move top disk from 1 to 3\n",
            "Move top disk from 1 to 2\n",
            "Move top disk from 3 to 2\n",
            "Move top disk from 1 to 3\n",
            "Move top disk from 2 to 1\n",
            "Move top disk from 2 to 3\n",
            "Move top disk from 1 to 3\n"
          ]
        }
      ]
    },
    {
      "cell_type": "markdown",
      "source": [
        "2.2(Motif Finding Is More Difficult Than You Think)"
      ],
      "metadata": {
        "id": "dzC2AdVMEWJS"
      }
    },
    {
      "cell_type": "code",
      "source": [
        "\n",
        "def number_of_occurrences(k, lpattern):\n",
        "    all_poosibel_kmers = lpattern - k +1\n",
        "    return (0.25**k) * all_poosibel_kmers\n",
        "\n",
        "print(number_of_occurrences(9, 1000) * 500)"
      ],
      "metadata": {
        "colab": {
          "base_uri": "https://localhost:8080/"
        },
        "id": "XiLCT6D-EYnm",
        "outputId": "2c0526c8-d497-4d5a-eff5-bc18a8d3425f"
      },
      "execution_count": null,
      "outputs": [
        {
          "output_type": "stream",
          "name": "stdout",
          "text": [
            "1.89208984375\n"
          ]
        }
      ]
    },
    {
      "cell_type": "code",
      "source": [
        "def hamming_distance(p: str, q: str):\n",
        "    distance = 0\n",
        "\n",
        "    for i in range(len(p)):\n",
        "        if p[i] != q[i]:\n",
        "            distance += 1\n",
        "    return distance\n",
        "\n",
        "def generate_neighbors(pattern, d):\n",
        "    if d == 0:\n",
        "        return [pattern]\n",
        "    if len(pattern) == 1:\n",
        "        return ['A', 'C', 'G', 'T']\n",
        "\n",
        "    neighborhood = set()\n",
        "    suffix_neighbors = generate_neighbors(pattern[1:], d)\n",
        "\n",
        "    for neighbor in suffix_neighbors:\n",
        "        if HammingDistance(pattern[1:], neighbor) < d:\n",
        "\n",
        "            for nucleotide in ['A', 'C', 'G', 'T']:\n",
        "                neighborhood.add(nucleotide + neighbor)\n",
        "        else:\n",
        "            neighborhood.add(pattern[0] + neighbor)\n",
        "    return list(neighborhood)\n",
        "\n",
        "def is_pattern_in_dna(pattern, dna, d):\n",
        "    k = len(pattern)\n",
        "\n",
        "    for seq in dna:\n",
        "        found = False\n",
        "\n",
        "        for i in range(len(seq) - k + 1):\n",
        "            if HammingDistance(pattern, seq[i:i+k]) <= d:\n",
        "                found = True\n",
        "                break\n",
        "        if not found:\n",
        "            return False\n",
        "    return True\n",
        "\n",
        "def motif_enumeration(dna, k, d):\n",
        "    patterns = set()\n",
        "\n",
        "    for seq in dna:\n",
        "\n",
        "        for i in range(len(seq) - k + 1):\n",
        "            pattern = seq[i:i+k]\n",
        "            neighbors = generate_neighbors(pattern, d)\n",
        "            for neighbor in neighbors:\n",
        "                if is_pattern_in_dna(neighbor, dna, d):\n",
        "                    patterns.add(neighbor)\n",
        "    return list(patterns)\n",
        "\n",
        "\n",
        "'''def motifenumeration(Dna, k, d):\n",
        "    patterns = set()\n",
        "\n",
        "    for dna_string in Dna:\n",
        "        ldna_string = len(dna_string)\n",
        "\n",
        "        for i in range(ldna_string-k+1):\n",
        "            pattern = dna_string[i: i+k]\n",
        "\n",
        "            for pattern_prime in Neighbors(pattern, d):\n",
        "\n",
        "                if all(is_pattern_in_dna(Dna, pattern_prime, d)):\n",
        "                    patterns.append(pattern_prime)\n",
        "\n",
        "    return patterns'''\n",
        "\n",
        "motif_enumeration(['ATTTGGC', 'TGCCTTA', 'CGGTATC', 'GAAAATT'], 3, 1)\n",
        "\n",
        "\n",
        "\n",
        "\n",
        "\n"
      ],
      "metadata": {
        "colab": {
          "base_uri": "https://localhost:8080/"
        },
        "id": "3wdMAyyoK-nn",
        "outputId": "321f7f51-43eb-4cc6-b89d-1f6a08a0210d"
      },
      "execution_count": null,
      "outputs": [
        {
          "output_type": "execute_result",
          "data": {
            "text/plain": [
              "['ATA', 'GTT', 'TTT', 'ATT']"
            ]
          },
          "metadata": {},
          "execution_count": 10
        }
      ]
    },
    {
      "cell_type": "markdown",
      "source": [
        "2.3 (Entropy)"
      ],
      "metadata": {
        "id": "nNToaikPlOdt"
      }
    },
    {
      "cell_type": "code",
      "source": [
        "import math\n",
        "\n",
        "def calculate_entropy(p):\n",
        "    entropy = 0\n",
        "\n",
        "    for probability in p:\n",
        "        if probability > 0:\n",
        "            entropy -= probability * math.log2(probability)\n",
        "    return entropy\n",
        "\n",
        "\n",
        "motif_matrix = [\n",
        "    \"TCGGGGGTTTTT\",\n",
        "    \"CCGGTGACTTAC\",\n",
        "    \"ACGGGGATTTTC\",\n",
        "    \"TTGGGGACTTTT\",\n",
        "    \"AAGGGGACTTCC\",\n",
        "    \"TTGGGGACTTCC\",\n",
        "    \"TCGGGGATTCAT\",\n",
        "    \"TCGGGGATTCCT\",\n",
        "    \"TAGGGGAACTAC\",\n",
        "    \"TCGGGTATAACC\"\n",
        "]\n",
        "\n",
        "t = len(motif_matrix)\n",
        "k = len(motif_matrix[0])\n",
        "\n",
        "# Construct the count matrix\n",
        "count_matrix = [[0] * k for _ in range(4)]\n",
        "\n",
        "for i in range(k):\n",
        "    col = [motif_matrix[j][i] for j in range(t)]\n",
        "    count_matrix[0][i] = col.count('A')\n",
        "    count_matrix[1][i] = col.count('C')\n",
        "    count_matrix[2][i] = col.count('G')\n",
        "    count_matrix[3][i] = col.count('T')\n",
        "\n",
        "# Convert count_matrix to profile_matrix by dividing each element by t\n",
        "profile_matrix = []\n",
        "\n",
        "# Iterate through each row in count_matrix\n",
        "for row in count_matrix:\n",
        "    # Create a new row by dividing each count by 't'\n",
        "    new_row = [count / t for count in row]\n",
        "\n",
        "    # Append the new row to the profile_matrix\n",
        "    profile_matrix.append(new_row)\n",
        "\n",
        "\n",
        "# Calculate the entropy for each column\n",
        "entropies = [calculate_entropy(col) for col in zip(*profile_matrix)]\n",
        "\n",
        "# Compute the total entropy of the motif matrix\n",
        "total_entropy = sum(entropies)\n",
        "print(f\"The total entropy of the motif matrix is approximately: {total_entropy:.3f}\")\n"
      ],
      "metadata": {
        "id": "cgpvLTB4Syiw",
        "colab": {
          "base_uri": "https://localhost:8080/"
        },
        "outputId": "cb80a269-9bdf-4762-9fc0-fa38358e20db"
      },
      "execution_count": null,
      "outputs": [
        {
          "output_type": "stream",
          "name": "stdout",
          "text": [
            "The total entropy of the motif matrix is approximately: 9.916\n"
          ]
        }
      ]
    },
    {
      "cell_type": "markdown",
      "source": [
        "2.4 (MedianString Problem)"
      ],
      "metadata": {
        "id": "gpSyHXY7TZpV"
      }
    },
    {
      "cell_type": "code",
      "source": [
        "def all_kmers(k):\n",
        "    nucleotides = ['A', 'C', 'G', 'T']\n",
        "    kmers = ['']\n",
        "\n",
        "    for _ in range (k):\n",
        "      new_kmers = []\n",
        "\n",
        "      for kmer in kmers:\n",
        "\n",
        "        for nuc in nucleotides:\n",
        "          new_kmers.append(nuc + kmer)\n",
        "        kmers = new_kmers\n",
        "\n",
        "    return kmers\n",
        "\n",
        "len(all_kmers(6))\n",
        "\n",
        "def all_kmers(k):\n",
        "    \"\"\"\n",
        "    Generates all possible k-mers of length k.\n",
        "    \"\"\"\n",
        "    nucleotides = ['A', 'C', 'G', 'T']\n",
        "    kmers = ['']\n",
        "\n",
        "    while len(kmers[0]) < k:\n",
        "        kmers = [nuc + kmer for kmer in kmers for nuc in nucleotides]\n",
        "    return kmers"
      ],
      "metadata": {
        "id": "_-uryrQyXLUz"
      },
      "execution_count": null,
      "outputs": []
    },
    {
      "cell_type": "markdown",
      "source": [
        "2.5(Greedy Motif Search)"
      ],
      "metadata": {
        "id": "bAiCnn6EOe6U"
      }
    },
    {
      "cell_type": "code",
      "source": [
        "import sys\n",
        "\n",
        "def all_kmers_string(string, k):\n",
        "    list_of_kmers = []\n",
        "\n",
        "    for i in range(len(string)-k+1):\n",
        "      list_of_kmers.append(string[i:i+k])\n",
        "    return list_of_kmers\n",
        "\n",
        "def profile_most_probable_kmer(text: str, k: int, profile: list[dict[str, float]]):\n",
        "    all_kmers = all_kmers_string(text, k)\n",
        "    likelyhoods = []\n",
        "    most_likely_kmer = \"\"\n",
        "\n",
        "    for pattern in all_kmers:\n",
        "      likelyhood = 1\n",
        "\n",
        "      for i in range(k):\n",
        "        nuc = pattern[i]\n",
        "        likelyhood *= profile[i][nuc]\n",
        "      likelyhoods.append(likelyhood)\n",
        "\n",
        "      if likelyhood >= max(likelyhoods):\n",
        "        most_likely_kmer = pattern\n",
        "\n",
        "    return most_likely_kmer\n",
        "\n",
        "profile = [{'A':0.2,'C':0.4,'G':0.3,'T':0.1},\n",
        "           {'A':0.2,'C':0.3,'G':0.3,'T':0.2},\n",
        "           {'A':0.3,'C':0.1,'G':0.5,'T':0.1},\n",
        "           {'A':0.2,'C':0.5,'G':0.2,'T':0.1},\n",
        "           {'A':0.3,'C':0.1,'G':0.4,'T':0.2}]\n",
        "profile_most_probable_kmer('ACCTGTTTATTGCCTAAGTTCCGAACAAACCCAATATAGCCCGAGGGCCT', 5, profile)\n"
      ],
      "metadata": {
        "colab": {
          "base_uri": "https://localhost:8080/",
          "height": 35
        },
        "id": "YJYgVHtBOduX",
        "outputId": "8d03cc8a-cf35-43aa-8248-05a1586c3ebc"
      },
      "execution_count": null,
      "outputs": [
        {
          "output_type": "execute_result",
          "data": {
            "text/plain": [
              "'CCGAG'"
            ],
            "application/vnd.google.colaboratory.intrinsic+json": {
              "type": "string"
            }
          },
          "metadata": {},
          "execution_count": 6
        }
      ]
    },
    {
      "cell_type": "code",
      "source": [
        "def hamming_distance_score(list_of_kmers):\n",
        "    total_score = 0\n",
        "    for kmer in list_of_kmers:\n",
        "\n",
        "      for test_kmer in list_of_kmers:\n",
        "        total_score += HammingDistance(kmer, test_kmer)\n",
        "\n",
        "    return total_score\n",
        "\n",
        "list_of_kmers = ['CAG', 'CAG', 'CAA', 'CAA', 'CAA']\n",
        "hamming_distance_score(list_of_kmers)\n"
      ],
      "metadata": {
        "id": "V85M8ERXW926"
      },
      "execution_count": null,
      "outputs": []
    },
    {
      "cell_type": "code",
      "source": [
        "def greedy_motif_search(dna: list[str], k: int, t: int):\n",
        "    list_of_kmer_lists = []\n",
        "\n",
        "    for i in range(t):\n",
        "      place_holder = []\n",
        "      list_of_kmer_lists.append(place_holder)\n",
        "\n",
        "    for place_holer in list_of_kmer_lists:\n",
        "\n",
        "      for dna_string in dna:\n",
        "        kmers_in_dna_string = []\n",
        "\n",
        "        for i in range(len(dna_string)-k+1):\n",
        "          kmers_in_dna_string.append(dna_string[i: i+k])\n",
        "\n",
        "      place_holer = kmers_in_dna_string\n",
        "      print(place_holer)\n",
        "    return list_of_kmer_lists\n",
        "\n",
        "dna = ['GGCGTTCAGGCA', 'AAGAATCAGTCA', 'CAAGGAGTTCGC', 'CACGTCAATCAC', 'CAATAATATTCG']\n",
        "greedy_motif_search(dna, 3, 5)\n"
      ],
      "metadata": {
        "colab": {
          "base_uri": "https://localhost:8080/"
        },
        "id": "g_o2xct5mhA4",
        "outputId": "13f9b9f8-2f05-4bb6-b203-eda523923c45"
      },
      "execution_count": null,
      "outputs": [
        {
          "output_type": "stream",
          "name": "stdout",
          "text": [
            "['CAA', 'AAT', 'ATA', 'TAA', 'AAT', 'ATA', 'TAT', 'ATT', 'TTC', 'TCG']\n",
            "['CAA', 'AAT', 'ATA', 'TAA', 'AAT', 'ATA', 'TAT', 'ATT', 'TTC', 'TCG']\n",
            "['CAA', 'AAT', 'ATA', 'TAA', 'AAT', 'ATA', 'TAT', 'ATT', 'TTC', 'TCG']\n",
            "['CAA', 'AAT', 'ATA', 'TAA', 'AAT', 'ATA', 'TAT', 'ATT', 'TTC', 'TCG']\n",
            "['CAA', 'AAT', 'ATA', 'TAA', 'AAT', 'ATA', 'TAT', 'ATT', 'TTC', 'TCG']\n"
          ]
        },
        {
          "output_type": "execute_result",
          "data": {
            "text/plain": [
              "[[], [], [], [], []]"
            ]
          },
          "metadata": {},
          "execution_count": 22
        }
      ]
    },
    {
      "cell_type": "code",
      "source": [
        "def score(Motifs):\n",
        "    score = 0\n",
        "\n",
        "    for i in range(len(Motifs[0])):\n",
        "        motif_column = [motif[i] for motif in Motifs]\n",
        "        max_frequency = max(motif_column.count(nucleotide) for nucleotide in 'ACGT')\n",
        "        score += (len(Motifs) - max_frequency)\n",
        "    return score\n",
        "\n",
        "def form_profile(Motifs):\n",
        "    t = len(Motifs)\n",
        "    k = len(Motifs[0])\n",
        "    profile = {'A': [0]*k, 'C': [0]*k, 'G': [0]*k, 'T': [0]*k}\n",
        "\n",
        "    for i in range(k):\n",
        "\n",
        "        for motif in Motifs:\n",
        "            profile[motif[i]][i] += 1\n",
        "\n",
        "        for nucleotide in profile:\n",
        "            profile[nucleotide][i] /= t\n",
        "    return profile\n",
        "\n",
        "def profile_most_probable_kmer(Text, k, Profile):\n",
        "    max_prob = -1\n",
        "    most_prob_kmer = Text[0:k]\n",
        "\n",
        "    for i in range(len(Text) - k + 1):\n",
        "        current_kmer = Text[i:i+k]\n",
        "        prob = 1\n",
        "\n",
        "        for j, nucleotide in enumerate(current_kmer):\n",
        "            prob *= Profile[nucleotide][j]\n",
        "        if prob > max_prob:\n",
        "            max_prob = prob\n",
        "            most_prob_kmer = current_kmer\n",
        "    return most_prob_kmer\n",
        "\n",
        "\n",
        "def greedy_motif_search(dna: list[str], k: int, t: int) -> list[str]:\n",
        "    BestMotifs = [dna[:k] for Dna in dna]\n",
        "\n",
        "    for i in range(len(dna[0]) - k + 1):\n",
        "        Motifs = []\n",
        "        Motif1 = dna[0][i:i+k]\n",
        "        Motifs.append(Motif1)\n",
        "\n",
        "        for j in range(1, t):\n",
        "            P = FormProfile(Motifs[:j])\n",
        "            Motifj = ProfileMostProbableKmer(dna[j], k, P)\n",
        "            Motifs.append(Motifj)\n",
        "        if Score(Motifs) < Score(BestMotifs):\n",
        "            BestMotifs = Motifs\n",
        "    return BestMotifs"
      ],
      "metadata": {
        "id": "_3lH34VIL3Yg"
      },
      "execution_count": null,
      "outputs": []
    },
    {
      "cell_type": "markdown",
      "source": [
        "2.6 (Motif Finding Meets Oliver Cromwell)"
      ],
      "metadata": {
        "id": "OkCwMPSWdGK9"
      }
    },
    {
      "cell_type": "code",
      "source": [
        "def score(Motifs):\n",
        "    score = 0\n",
        "\n",
        "    for i in range(len(Motifs[0])):\n",
        "        motif_column = [motif[i] for motif in Motifs]\n",
        "        max_frequency = max(motif_column.count(nucleotide) for nucleotide in 'ACGT')\n",
        "        score += (len(Motifs) - max_frequency + 1)\n",
        "    return score\n",
        "\n",
        "def form_profile(Motifs):\n",
        "    t = len(Motifs)\n",
        "    k = len(Motifs[0])\n",
        "    profile = {'A': [1]*k, 'C': [1]*k, 'G': [1]*k, 'T': [1]*k}\n",
        "\n",
        "    for i in range(k):\n",
        "\n",
        "        for motif in Motifs:\n",
        "            profile[motif[i]][i] += 1\n",
        "\n",
        "        for nucleotide in profile:\n",
        "            profile[nucleotide][i] /= (t+4)\n",
        "    return profile\n",
        "\n",
        "def profile_most_probable_kmer(Text, k, Profile):\n",
        "    max_prob = -1\n",
        "    most_prob_kmer = Text[0:k]\n",
        "\n",
        "    for i in range(len(Text) - k + 1):\n",
        "        current_kmer = Text[i:i+k]\n",
        "        prob = 1\n",
        "\n",
        "        for j, nucleotide in enumerate(current_kmer):\n",
        "            prob *= Profile[nucleotide][j]\n",
        "        if prob > max_prob:\n",
        "            max_prob = prob\n",
        "            most_prob_kmer = current_kmer\n",
        "    return most_prob_kmer\n",
        "\n",
        "\n",
        "def greedy_motif_search(dna: list[str], k: int, t: int) -> list[str]:\n",
        "    BestMotifs = [dna[:k] for Dna in dna]\n",
        "\n",
        "    for i in range(len(dna[0]) - k + 1):\n",
        "        Motifs = []\n",
        "        Motif1 = dna[0][i:i+k]\n",
        "        Motifs.append(Motif1)\n",
        "\n",
        "        for j in range(1, t):\n",
        "            P = FormProfile(Motifs[:j])\n",
        "            Motifj = ProfileMostProbableKmer(dna[j], k, P)\n",
        "            Motifs.append(Motifj)\n",
        "        if Score(Motifs) < Score(BestMotifs):\n",
        "            BestMotifs = Motifs\n",
        "    return BestMotifs\n",
        "dna = ['GGCGTTCAGGCA', 'AAGAATCAGTCA', 'CAAGGAGTTCGC', 'CACGTCAATCAC', 'CAATAATATTCG']\n",
        "greedy_motif_search(dna, 3, 5)"
      ],
      "metadata": {
        "colab": {
          "base_uri": "https://localhost:8080/"
        },
        "id": "s7FKUwn-dMu5",
        "outputId": "f372596c-61d4-4dab-9425-531a21ac8519"
      },
      "execution_count": null,
      "outputs": [
        {
          "output_type": "execute_result",
          "data": {
            "text/plain": [
              "['TTC', 'ATC', 'TTC', 'ATC', 'TTC']"
            ]
          },
          "metadata": {},
          "execution_count": 8
        }
      ]
    },
    {
      "cell_type": "markdown",
      "source": [
        "2.7 (Randomized Motif Search)"
      ],
      "metadata": {
        "id": "KwNaRe7Jkpyo"
      }
    },
    {
      "cell_type": "code",
      "source": [
        "import random\n",
        "\n",
        "def score(Motifs):\n",
        "    score = 0\n",
        "\n",
        "    for i in range(len(Motifs[0])):\n",
        "        motif_column = [motif[i] for motif in Motifs]\n",
        "        max_frequency = max(motif_column.count(nucleotide) for nucleotide in 'ACGT')\n",
        "        score += (len(Motifs) - max_frequency + 1)\n",
        "    return score\n",
        "\n",
        "def form_profile(Motifs):\n",
        "    t = len(Motifs)\n",
        "    k = len(Motifs[0])\n",
        "    profile = {'A': [1]*k, 'C': [1]*k, 'G': [1]*k, 'T': [1]*k}\n",
        "\n",
        "    for i in range(k):\n",
        "\n",
        "        for motif in Motifs:\n",
        "            profile[motif[i]][i] += 1\n",
        "\n",
        "        for nucleotide in profile:\n",
        "            profile[nucleotide][i] /= (t+4)\n",
        "    return profile\n",
        "\n",
        "def profile_most_probable_kmer(Text, k, Profile):\n",
        "    max_prob = -1\n",
        "    most_prob_kmer = Text[0:k]\n",
        "\n",
        "    for i in range(len(Text) - k + 1):\n",
        "        current_kmer = Text[i:i+k]\n",
        "        prob = 1\n",
        "\n",
        "        for j, nucleotide in enumerate(current_kmer):\n",
        "            prob *= Profile[nucleotide][j]\n",
        "        if prob > max_prob:\n",
        "            max_prob = prob\n",
        "            most_prob_kmer = current_kmer\n",
        "    return most_prob_kmer\n",
        "\n",
        "def randomized_motif_search(dna, k, t):\n",
        "    bestmotifs = []\n",
        "\n",
        "    for _ in range(1000):\n",
        "        randomly_selected_kmer_from_each_string = []\n",
        "\n",
        "        for string in dna:\n",
        "            index = random.randint(0, len(string)-k)\n",
        "            randomly_selected_kmer = string[index:index+k]\n",
        "            randomly_selected_kmer_from_each_string.append(randomly_selected_kmer)\n",
        "\n",
        "        while True:\n",
        "            current_best_score = Score(randomly_selected_kmer_from_each_string)\n",
        "            randomly_selected_kmers_profile = FormProfile(randomly_selected_kmer_from_each_string)\n",
        "            ProfileMostProbableKmer(string, k, randomly_selected_kmers_profile)\n",
        "            if Score(randomly_selected_kmer_from_each_string) <  current_best_score:\n",
        "                current_best_score = Score(randomly_selected_kmer_from_each_string)\n",
        "            else:\n",
        "                current_best_score = Score(randomly_selected_kmer_from_each_string)\n",
        "\n",
        "def randomized_motif_search(Dna, k, t):\n",
        "    BestScore = float('inf')\n",
        "    BestMotifs = []\n",
        "\n",
        "    for _ in range(1000):  # Perform 1000 iterations\n",
        "        Motifs = []\n",
        "\n",
        "        for text in Dna:\n",
        "            rand_start = random.randint(0, len(text) - k)\n",
        "            Motifs.append(text[rand_start:rand_start+k])\n",
        "        while True:\n",
        "            Profile = FormProfile(Motifs)\n",
        "            Motifs = [ProfileMostProbableKmer(text, k, Profile) for text in Dna]\n",
        "            curr_score = Score(Motifs)\n",
        "            if curr_score < BestScore:\n",
        "                BestScore = curr_score\n",
        "                BestMotifs = Motifs\n",
        "            else:\n",
        "                break\n",
        "    return BestMotifs\n",
        "Dna = ['CGCCCCTCTCGGGGGTGTTCAGTAAACGGCCA','GGGCGAGGTATGTGTAAGTGCCAAGGTGCCAG','TAGTACCGAGACCGAAAGAAGTATACAGGCGT','TAGATCAAGTTTCAGGTGCACGTCGGTGAACCAA','TCCACCAGCTCCACGTGCAATGTTGGCCTA']\n",
        "RandomizedMotifSearch(Dna, 8, 5)"
      ],
      "metadata": {
        "id": "AXor_2wZko9G",
        "colab": {
          "base_uri": "https://localhost:8080/"
        },
        "outputId": "271fc9aa-f37a-461d-9cd9-d788b80d1afd"
      },
      "execution_count": null,
      "outputs": [
        {
          "output_type": "execute_result",
          "data": {
            "text/plain": [
              "['TCTCGGGG', 'CCAAGGTG', 'TACAGGCG', 'TTCAGGTG', 'TCCACGTG']"
            ]
          },
          "metadata": {},
          "execution_count": 11
        }
      ]
    },
    {
      "cell_type": "markdown",
      "source": [
        "2.9 (Gibb Sampeler Motfi Search)"
      ],
      "metadata": {
        "id": "C43L3CcexNGQ"
      }
    },
    {
      "cell_type": "code",
      "source": [
        "import random\n",
        "\n",
        "def Score(Motifs):\n",
        "    score = 0\n",
        "    k = len(Motifs[0])\n",
        "    t = len(Motifs)\n",
        "\n",
        "    for i in range(k):\n",
        "        motif_column = [motif[i] for motif in Motifs]\n",
        "        max_frequency = max(motif_column.count(nucleotide) for nucleotide in 'ACGT')\n",
        "        score += (t - max_frequency)\n",
        "    return score\n",
        "\n",
        "def profile_most_probable_kmer(Text, k, Profile):\n",
        "    max_prob = -1\n",
        "    most_prob_kmer = Text[0:k]\n",
        "\n",
        "    for i in range(len(Text) - k + 1):\n",
        "        current_kmer = Text[i:i+k]\n",
        "        prob = 1\n",
        "\n",
        "        for j, nucleotide in enumerate(current_kmer):\n",
        "            prob *= Profile[nucleotide][j]\n",
        "        if prob > max_prob:\n",
        "            max_prob = prob\n",
        "            most_prob_kmer = current_kmer\n",
        "    return most_prob_kmer\n",
        "\n",
        "def form_profile_with_pseudo_counts(Motifs):\n",
        "    t = len(Motifs)\n",
        "    k = len(Motifs[0])\n",
        "    profile = {'A': [1]*k, 'C': [1]*k, 'G': [1]*k, 'T': [1]*k}\n",
        "\n",
        "    for i in range(k):\n",
        "\n",
        "        for motif in Motifs:\n",
        "            profile[motif[i]][i] += 1\n",
        "\n",
        "        for nucleotide in profile:\n",
        "            profile[nucleotide][i] /= (t + 4) # Add pseudocounts and normalize\n",
        "    return profile\n",
        "\n",
        "def gibbs_sampler(dna: list[str], k: int, t: int, n: int) -> list[str]:\n",
        "    \"\"\"Implements the GibbsSampling algorithm for motif finding.\"\"\"\n",
        "\n",
        "    BestMotifs = [dna[:k] for dna in Dna]\n",
        "\n",
        "    for _ in range(1000):\n",
        "      Motifs = []\n",
        "\n",
        "      for dna in Dna:\n",
        "          start = random.randint(0, len(dna) - k)\n",
        "          Motifs.append(dna[start:start+k])\n",
        "\n",
        "      for _ in range(N):\n",
        "          i = random.randint(0, t-1)\n",
        "          Profile = FormProfileWithPseudocounts(Motifs[:i] + Motifs[i+1:])\n",
        "          Motifs[i] = ProfileMostProbableKmer(Dna[i], k, Profile)\n",
        "\n",
        "          if Score(Motifs) < Score(BestMotifs):\n",
        "            BestMotifs = Motifs\n",
        "    return BestMotifs\n",
        "\n",
        "k, t, N = 8, 5, 100\n",
        "\n",
        "Dna = [\n",
        "    \"CGCCCCTCTCGGGGGTGTTCAGTAAACGGCCA\",\n",
        "    \"GGGCGAGGTATGTGTAAGTGCCAAGGTGCCAG\",\n",
        "    \"TAGTACCGAGACCGAAAGAAGTATACAGGCGT\",\n",
        "    \"TAGATCAAGTTTCAGGTGCACGTCGGTGAACC\",\n",
        "    \"AATCCACCAGCTCCACGTGCAATGTTGGCCTA\"\n",
        "]\n",
        "\n",
        "\n",
        "result = gibbs_sampler(Dna, k, t, N)\n",
        "\n",
        "print(' '.join(result))"
      ],
      "metadata": {
        "id": "QCmbDm896nER",
        "colab": {
          "base_uri": "https://localhost:8080/"
        },
        "outputId": "e8a1c092-25e2-4b3c-ac88-0dc9d2435c36"
      },
      "execution_count": null,
      "outputs": [
        {
          "output_type": "stream",
          "name": "stdout",
          "text": [
            "CTCGGGGG CCAAGGTG TACAGGCG TTCAGGTG TCCACGTG\n"
          ]
        }
      ]
    },
    {
      "cell_type": "markdown",
      "source": [
        "3.2 The String Reconstruction Problem"
      ],
      "metadata": {
        "id": "_5c5iPqENd7d"
      }
    },
    {
      "cell_type": "code",
      "source": [
        "def kmer_composition(text: str, k: int):\n",
        "    output = []\n",
        "\n",
        "    for i in range(0, len(text)-k+1):\n",
        "      output.append(text[i:i+k])\n",
        "    return output\n"
      ],
      "metadata": {
        "colab": {
          "base_uri": "https://localhost:8080/"
        },
        "id": "OznWkNBoNdkx",
        "outputId": "47e53f92-24b0-49db-8b59-3f6667fed989"
      },
      "execution_count": null,
      "outputs": [
        {
          "output_type": "stream",
          "name": "stdout",
          "text": [
            "['CAATC', 'AATCC', 'ATCCA', 'TCCAA', 'CCAAC']\n"
          ]
        }
      ]
    },
    {
      "cell_type": "code",
      "source": [],
      "metadata": {
        "id": "h8LZmL0z6PKC"
      },
      "execution_count": null,
      "outputs": []
    },
    {
      "cell_type": "code",
      "source": [],
      "metadata": {
        "id": "ugg62bJ55UHh"
      },
      "execution_count": null,
      "outputs": []
    },
    {
      "cell_type": "code",
      "source": [],
      "metadata": {
        "id": "Hpof7B805T8w"
      },
      "execution_count": null,
      "outputs": []
    }
  ]
}